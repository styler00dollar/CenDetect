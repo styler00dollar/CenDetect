{
  "nbformat": 4,
  "nbformat_minor": 0,
  "metadata": {
    "colab": {
      "name": "Colab-CenDetect.ipynb",
      "private_outputs": true,
      "provenance": [],
      "collapsed_sections": []
    },
    "kernelspec": {
      "name": "python3",
      "display_name": "Python 3"
    },
    "language_info": {
      "name": "python"
    },
    "accelerator": "GPU"
  },
  "cells": [
    {
      "cell_type": "markdown",
      "metadata": {
        "id": "T8ebt3ID1mGG"
      },
      "source": [
        "# Colab-CenDetect\n",
        "\n",
        "My repo: [styler00dollar/CenDetect](https://github.com/styler00dollar/CenDetect)\n",
        "\n",
        "Default paths are \n",
        "```\n",
        "\"Google Drive/CD/input\"\n",
        "\"Google Drive/CD/output\"\n",
        "```"
      ]
    },
    {
      "cell_type": "code",
      "metadata": {
        "id": "bpDM9dlm3yOd"
      },
      "source": [
        "!nvidia-smi"
      ],
      "execution_count": null,
      "outputs": []
    },
    {
      "cell_type": "code",
      "metadata": {
        "cellView": "form",
        "id": "47fVsXLi3RAv"
      },
      "source": [
        "#@title Mount Google Drive\n",
        "from google.colab import drive\n",
        "drive.mount('/content/drive')\n",
        "print('Google Drive connected.')"
      ],
      "execution_count": null,
      "outputs": []
    },
    {
      "cell_type": "markdown",
      "metadata": {
        "id": "c6KMf1Wh9iej"
      },
      "source": [
        "There are 2 ways to install it. Pick **one**."
      ]
    },
    {
      "cell_type": "code",
      "metadata": {
        "cellView": "form",
        "id": "O0o6eNN78041"
      },
      "source": [
        "#@title installing by downgrading pytorch and installing pre-compiled mmcv (~7min)\n",
        "!git clone https://github.com/styler00dollar/CenDetect\n",
        "!mkdir /content/CenDetect/models\n",
        "%cd /content/CenDetect/models\n",
        "!wget \"https://github.com/styler00dollar/CenDetect/releases/download/v1.0/cascade_mask_rcnn_r50_fpn_dconv.pth\"\n",
        "!wget \"https://github.com/styler00dollar/CenDetect/releases/download/v1.0/cascade_mask_rcnn_r50_fpn_dconv.py\"\n",
        "!wget \"https://github.com/styler00dollar/CenDetect/releases/download/v1.0/mask_rcnn_r101_fpn.pth\"\n",
        "!wget \"https://github.com/styler00dollar/CenDetect/releases/download/v1.0/mask_rcnn_r101_fpn.py\"\n",
        "!wget \"https://github.com/styler00dollar/CenDetect/releases/download/v1.0/mask_rcnn_r50_fpn.pth\"\n",
        "!wget \"https://github.com/styler00dollar/CenDetect/releases/download/v1.0/mask_rcnn_r50_fpn.py\"\n",
        "!wget \"https://github.com/styler00dollar/CenDetect/releases/download/v1.0/point_rend_r50_fpn.pth\"\n",
        "!wget \"https://github.com/styler00dollar/CenDetect/releases/download/v1.0/point_rend_r50_fpn.py\"\n",
        "\n",
        "!pip install torch==1.8.0+cu111 torchvision==0.9.0+cu111 torchaudio==0.8.0 -f https://download.pytorch.org/whl/torch_stable.html\n",
        "!pip install mmcv-full==1.3.9 -f https://download.openmmlab.com/mmcv/dist/cu111/torch1.8.0/index.html\n",
        "\n",
        "%cd /content\n",
        "!git clone https://github.com/styler00dollar/Colab-mmdetection mmdetection\n",
        "%cd mmdetection\n",
        "!pip install -e .\n",
        "!mkdir /content/CenDetect/\n",
        "\n",
        "!pip install timm --no-deps"
      ],
      "execution_count": null,
      "outputs": []
    },
    {
      "cell_type": "code",
      "metadata": {
        "id": "686feKB-1ee2",
        "cellView": "form"
      },
      "source": [
        "#@title installing by compiling mmcv (~16 min)\n",
        "!git clone https://github.com/styler00dollar/CenDetect\n",
        "!mkdir /content/CenDetect/models\n",
        "%cd /content/CenDetect/models\n",
        "!wget \"https://github.com/styler00dollar/CenDetect/releases/download/v1.0/cascade_mask_rcnn_r50_fpn_dconv.pth\"\n",
        "!wget \"https://github.com/styler00dollar/CenDetect/releases/download/v1.0/cascade_mask_rcnn_r50_fpn_dconv.py\"\n",
        "!wget \"https://github.com/styler00dollar/CenDetect/releases/download/v1.0/mask_rcnn_r101_fpn.pth\"\n",
        "!wget \"https://github.com/styler00dollar/CenDetect/releases/download/v1.0/mask_rcnn_r101_fpn.py\"\n",
        "!wget \"https://github.com/styler00dollar/CenDetect/releases/download/v1.0/mask_rcnn_r50_fpn.pth\"\n",
        "!wget \"https://github.com/styler00dollar/CenDetect/releases/download/v1.0/mask_rcnn_r50_fpn.py\"\n",
        "!wget \"https://github.com/styler00dollar/CenDetect/releases/download/v1.0/point_rend_r50_fpn.pth\"\n",
        "!wget \"https://github.com/styler00dollar/CenDetect/releases/download/v1.0/point_rend_r50_fpn.py\"\n",
        "\n",
        "%cd /content\n",
        "!git clone https://github.com/open-mmlab/mmcv.git\n",
        "%cd mmcv\n",
        "!MMCV_WITH_OPS=1 pip install -e .\n",
        "\n",
        "%cd /content\n",
        "!git clone https://github.com/styler00dollar/Colab-mmdetection mmdetection\n",
        "%cd mmdetection\n",
        "!pip install -e .\n",
        "!mkdir /content/CenDetect/\n",
        "\n",
        "!pip install timm --no-deps"
      ],
      "execution_count": null,
      "outputs": []
    },
    {
      "cell_type": "code",
      "metadata": {
        "cellView": "form",
        "id": "mFiuJYiQ_icM"
      },
      "source": [
        "#@title model inference (fp32)\n",
        "#@markdown Has 4 models.\n",
        "%cd /content/CenDetect\n",
        "model = \"cascade_mask_rcnn_r50_fpn_dconv\" #@param [\"mask_rcnn_r50_fpn\", \"mask_rcnn_r101_fpn\", \"point_rend_r50_fpn\", \"cascade_mask_rcnn_r50_fpn_dconv\"] {allow-input: false}\n",
        "confidence = 0.3 #@param\n",
        "input_path = \"/content/drive/MyDrive/CD/input\" #@param\n",
        "output_path = \"/content/drive/MyDrive/CD/output\" #@param\n",
        "!python det.py --confidence {confidence} --input_path {input_path} --output_path {output_path} --device \"cuda\" --model {model} --model_directory \"/content/CenDetect/models\""
      ],
      "execution_count": null,
      "outputs": []
    },
    {
      "cell_type": "code",
      "metadata": {
        "cellView": "form",
        "id": "I2VAuQYW4Kt0"
      },
      "source": [
        "#@title model inference (fp16)\n",
        "#@markdown Has 3 models.\n",
        "%cd /content/CenDetect\n",
        "model = \"mask_rcnn_r101_fpn\" #@param [\"mask_rcnn_r50_fpn\", \"mask_rcnn_r101_fpn\", \"cascade_mask_rcnn_r50_fpn_dconv\"] {allow-input: false}\n",
        "confidence = 0.3 #@param\n",
        "input_path = \"/content/drive/MyDrive/CD/input\" #@param\n",
        "output_path = \"/content/drive/MyDrive/CD/output\" #@param\n",
        "!python det.py --confidence {confidence} --input_path {input_path} --output_path {output_path} --device \"cuda\" --model {model} --fp16 --model_directory \"/content/CenDetect/models\""
      ],
      "execution_count": null,
      "outputs": []
    }
  ]
}